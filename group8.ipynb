{
  "nbformat": 4,
  "nbformat_minor": 0,
  "metadata": {
    "colab": {
      "provenance": [],
      "include_colab_link": true
    },
    "kernelspec": {
      "name": "python3",
      "display_name": "Python 3"
    },
    "language_info": {
      "name": "python"
    }
  },
  "cells": [
    {
      "cell_type": "markdown",
      "metadata": {
        "id": "view-in-github",
        "colab_type": "text"
      },
      "source": [
        "<a href=\"https://colab.research.google.com/github/ashleyr05/EDA/blob/main/group8.ipynb\" target=\"_parent\"><img src=\"https://colab.research.google.com/assets/colab-badge.svg\" alt=\"Open In Colab\"/></a>"
      ]
    },
    {
      "cell_type": "markdown",
      "source": [
        "# Project #1\n",
        "\n",
        "## Machine Learning 1\n",
        "\n",
        "### Summary:\n",
        "\n",
        "### Results:\n",
        "\n",
        "### Conclusion:\n",
        "\n",
        "Ashley - marital status\n",
        "\n",
        "Anna - age, happy\n",
        "\n",
        "Semin - after life\n",
        "\n",
        "Emily - income"
      ],
      "metadata": {
        "id": "9nhZcLIAoVw-"
      }
    },
    {
      "cell_type": "code",
      "source": [
        "! git clone https://github.com/annacfisher/project_gss"
      ],
      "metadata": {
        "id": "X3yLHa8_sQxu",
        "outputId": "ae14c529-7fac-48ca-a500-bed085c6d53c",
        "colab": {
          "base_uri": "https://localhost:8080/"
        }
      },
      "execution_count": 1,
      "outputs": [
        {
          "output_type": "stream",
          "name": "stdout",
          "text": [
            "Cloning into 'project_gss'...\n",
            "remote: Enumerating objects: 41, done.\u001b[K\n",
            "remote: Counting objects: 100% (19/19), done.\u001b[K\n",
            "remote: Compressing objects: 100% (15/15), done.\u001b[K\n",
            "remote: Total 41 (delta 14), reused 4 (delta 4), pack-reused 22\u001b[K\n",
            "Receiving objects: 100% (41/41), 24.19 MiB | 19.34 MiB/s, done.\n",
            "Resolving deltas: 100% (14/14), done.\n"
          ]
        }
      ]
    }
  ]
}